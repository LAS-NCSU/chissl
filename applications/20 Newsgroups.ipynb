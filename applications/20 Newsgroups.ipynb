{
 "cells": [
  {
   "cell_type": "code",
   "execution_count": 1,
   "metadata": {
    "collapsed": true
   },
   "outputs": [],
   "source": [
    "import pandas as pd\n",
    "import numpy as np\n",
    "\n",
    "import matplotlib.pyplot as plt\n",
    "%matplotlib inline\n",
    "\n",
    "from util import chissl_mongo as cm\n",
    "%load_ext autoreload\n",
    "%autoreload 2"
   ]
  },
  {
   "cell_type": "markdown",
   "metadata": {},
   "source": [
    "# Process the 20 Newsgroups Dataset"
   ]
  },
  {
   "cell_type": "code",
   "execution_count": 2,
   "metadata": {},
   "outputs": [
    {
     "data": {
      "text/html": [
       "<div>\n",
       "<style scoped>\n",
       "    .dataframe tbody tr th:only-of-type {\n",
       "        vertical-align: middle;\n",
       "    }\n",
       "\n",
       "    .dataframe tbody tr th {\n",
       "        vertical-align: top;\n",
       "    }\n",
       "\n",
       "    .dataframe thead th {\n",
       "        text-align: right;\n",
       "    }\n",
       "</style>\n",
       "<table border=\"1\" class=\"dataframe\">\n",
       "  <thead>\n",
       "    <tr style=\"text-align: right;\">\n",
       "      <th></th>\n",
       "      <th>content</th>\n",
       "      <th>source</th>\n",
       "      <th>title</th>\n",
       "      <th>_id</th>\n",
       "      <th>group</th>\n",
       "    </tr>\n",
       "  </thead>\n",
       "  <tbody>\n",
       "    <tr>\n",
       "      <th>0</th>\n",
       "      <td>I was wondering if anyone out there could enli...</td>\n",
       "      <td>lerxst@wam.umd.edu (where's my thing)</td>\n",
       "      <td>WHAT car is this!?</td>\n",
       "      <td>0</td>\n",
       "      <td>Autos</td>\n",
       "    </tr>\n",
       "    <tr>\n",
       "      <th>1</th>\n",
       "      <td>A fair number of brave souls who upgraded thei...</td>\n",
       "      <td>guykuo@carson.u.washington.edu (Guy Kuo)</td>\n",
       "      <td>SI Clock Poll - Final Call</td>\n",
       "      <td>1</td>\n",
       "      <td>Hardware</td>\n",
       "    </tr>\n",
       "    <tr>\n",
       "      <th>2</th>\n",
       "      <td>well folks, my mac plus finally gave up the gh...</td>\n",
       "      <td>twillis@ec.ecn.purdue.edu (Thomas E Willis)</td>\n",
       "      <td>PB questions...</td>\n",
       "      <td>2</td>\n",
       "      <td>Hardware</td>\n",
       "    </tr>\n",
       "    <tr>\n",
       "      <th>3</th>\n",
       "      <td>From article &lt;C5owCB.n3p@world.std.com&gt;, by to...</td>\n",
       "      <td>jcm@head-cfa.harvard.edu (Jonathan McDowell)</td>\n",
       "      <td>Re: Shuttle Launch Question</td>\n",
       "      <td>4</td>\n",
       "      <td>Space</td>\n",
       "    </tr>\n",
       "    <tr>\n",
       "      <th>4</th>\n",
       "      <td>There were a few people who responded to my re...</td>\n",
       "      <td>bmdelane@quads.uchicago.edu (brian manning de...</td>\n",
       "      <td>Brain Tumor Treatment (thanks)</td>\n",
       "      <td>6</td>\n",
       "      <td>Medicine</td>\n",
       "    </tr>\n",
       "  </tbody>\n",
       "</table>\n",
       "</div>"
      ],
      "text/plain": [
       "                                             content  \\\n",
       "0  I was wondering if anyone out there could enli...   \n",
       "1  A fair number of brave souls who upgraded thei...   \n",
       "2  well folks, my mac plus finally gave up the gh...   \n",
       "3  From article <C5owCB.n3p@world.std.com>, by to...   \n",
       "4  There were a few people who responded to my re...   \n",
       "\n",
       "                                              source  \\\n",
       "0              lerxst@wam.umd.edu (where's my thing)   \n",
       "1           guykuo@carson.u.washington.edu (Guy Kuo)   \n",
       "2        twillis@ec.ecn.purdue.edu (Thomas E Willis)   \n",
       "3       jcm@head-cfa.harvard.edu (Jonathan McDowell)   \n",
       "4   bmdelane@quads.uchicago.edu (brian manning de...   \n",
       "\n",
       "                            title _id     group  \n",
       "0              WHAT car is this!?   0     Autos  \n",
       "1      SI Clock Poll - Final Call   1  Hardware  \n",
       "2                 PB questions...   2  Hardware  \n",
       "3     Re: Shuttle Launch Question   4     Space  \n",
       "4  Brain Tumor Treatment (thanks)   6  Medicine  "
      ]
     },
     "execution_count": 2,
     "metadata": {},
     "output_type": "execute_result"
    }
   ],
   "source": [
    "from sklearn.datasets import fetch_20newsgroups\n",
    "\n",
    "data = fetch_20newsgroups()\n",
    "\n",
    "def parse_document(s):\n",
    "    header, content = s.split('\\n\\n', 1)\n",
    "    source, title, _ = header.split('\\n', 2)\n",
    "    return {'source': source.replace('From:', ''),\n",
    "            'title': title.replace('Subject: ', ''),\n",
    "            'content': content.strip()}\n",
    "\n",
    "targets = {\n",
    " 'comp.os.ms-windows.misc'  : 'Software',\n",
    " 'comp.windows.x'           : 'Software',\n",
    " 'comp.sys.ibm.pc.hardware' : 'Hardware',\n",
    " 'comp.sys.mac.hardware'    : 'Hardware',\n",
    " 'misc.forsale'             : 'For sale',\n",
    " 'rec.autos'                : 'Autos',\n",
    " 'rec.motorcycles'          : 'Autos',\n",
    " 'rec.sport.baseball'       : 'Sports',\n",
    " 'rec.sport.hockey'         : 'Sports',\n",
    " 'sci.med'                  : 'Medicine',\n",
    " 'sci.space'                : 'Space'\n",
    "}\n",
    "\n",
    "df = pd.DataFrame(list(map(parse_document, data.data)))\n",
    "df['_id'] = np.arange(len(df)).astype('str')\n",
    "df['group'] = [targets.get(x, 'None') for x in np.array(data.target_names)[data.target]]\n",
    "df = df[df.group != 'None'].reset_index(drop=True)\n",
    "df.head()"
   ]
  },
  {
   "cell_type": "markdown",
   "metadata": {},
   "source": [
    "# Add text documents to database"
   ]
  },
  {
   "cell_type": "code",
   "execution_count": 3,
   "metadata": {},
   "outputs": [
    {
     "data": {
      "text/plain": [
       "<pymongo.results.InsertManyResult at 0x1a19a57360>"
      ]
     },
     "execution_count": 3,
     "metadata": {},
     "output_type": "execute_result"
    }
   ],
   "source": [
    "cm.ChisslMongo()\\\n",
    "    .create_collection('Newsgroups', df.to_dict(orient='records'), drop=True)"
   ]
  },
  {
   "cell_type": "markdown",
   "metadata": {},
   "source": [
    "# Create a Newsgroups application"
   ]
  },
  {
   "cell_type": "code",
   "execution_count": 4,
   "metadata": {},
   "outputs": [
    {
     "data": {
      "text/plain": [
       "{'_id': '20 Newsgroups (nmf)',\n",
       " 'collection': 'Newsgroups',\n",
       " 'component': 'NewsgroupsComponent',\n",
       " 'params': {'umap__metric': 'cosine'},\n",
       " 'pipeline': 'util.applications.text.TextPipeline',\n",
       " 'props': {}}"
      ]
     },
     "execution_count": 4,
     "metadata": {},
     "output_type": "execute_result"
    }
   ],
   "source": [
    "cm.ChisslMongo()\\\n",
    "    .create_application('20 Newsgroups (nmf)',\n",
    "                        'Newsgroups',\n",
    "                        'NewsgroupsComponent',\n",
    "                        'util.applications.text.TextPipeline',\n",
    "                         params={'umap__metric': 'cosine'},\n",
    "                         drop=True)"
   ]
  },
  {
   "cell_type": "markdown",
   "metadata": {},
   "source": [
    "# Fit a model"
   ]
  },
  {
   "cell_type": "code",
   "execution_count": 6,
   "metadata": {},
   "outputs": [
    {
     "name": "stdout",
     "output_type": "stream",
     "text": [
      "Finding application <20 Newsgroups (nmf)>...OK\n",
      "Querying collection <Newsgroups> <None>...found 6513...OK\n",
      "Transforming data...OK\n",
      "Clustering data...OK\n",
      "Projecting data for histograms {'group': True}...OK\n",
      "done.\n"
     ]
    }
   ],
   "source": [
    "obj = cm.ChisslMongo(verbose=True)\\\n",
    "    .create_model('20 Newsgroups (nmf)', 'test',\n",
    "                  project={'group': True},\n",
    "                  drop=True)"
   ]
  },
  {
   "cell_type": "markdown",
   "metadata": {},
   "source": [
    "# Visualize results\n",
    "We are looking for something with more structure than a big blob if it worked correctly"
   ]
  },
  {
   "cell_type": "code",
   "execution_count": null,
   "metadata": {
    "collapsed": true
   },
   "outputs": [],
   "source": [
    "groups = obj['hist']['group']\n",
    "groups_set = sorted(set(groups))\n",
    "colors = {v: i for i, v in enumerate(groups_set)}\n",
    "\n",
    "plt.figure(figsize=(12, 12))\n",
    "plt.scatter(*np.array(obj['X']).T, s=2, c=list(map(colors.get, groups)), cmap='tab10', vmin=0, vmax=10);\n",
    "cb = plt.colorbar()\n",
    "cb.set_ticks(np.arange(len(groups_set)) + .5)\n",
    "cb.set_ticklabels(groups_set)\n",
    "plt.axis('equal');"
   ]
  },
  {
   "cell_type": "markdown",
   "metadata": {},
   "source": [
    "# Deploy the model"
   ]
  },
  {
   "cell_type": "code",
   "execution_count": 7,
   "metadata": {
    "collapsed": true
   },
   "outputs": [],
   "source": [
    "labels = df.set_index('_id').iloc[:5000].group.to_dict()\n",
    "\n",
    "cm.ChisslMongo()\\\n",
    "    .deploy('20 Newsgroups (nmf)', 'test', labels, drop=True);"
   ]
  },
  {
   "cell_type": "markdown",
   "metadata": {},
   "source": [
    "# Predict on \"new\" data"
   ]
  },
  {
   "cell_type": "code",
   "execution_count": 8,
   "metadata": {},
   "outputs": [
    {
     "data": {
      "text/plain": [
       "array(['Software', 'Medicine', 'Space', 'Software', 'Sports', 'Autos',\n",
       "       'Software', 'Hardware', 'Sports', 'Space', 'Sports', 'Autos',\n",
       "       'Hardware', 'Autos', 'Autos', 'Software', 'Sports', 'Hardware',\n",
       "       'Sports', 'Sports', 'Sports', 'For sale', 'Hardware', 'Hardware',\n",
       "       'Medicine', 'For sale', 'Medicine', 'Hardware', 'Hardware',\n",
       "       'Hardware'], dtype=object)"
      ]
     },
     "execution_count": 8,
     "metadata": {},
     "output_type": "execute_result"
    }
   ],
   "source": [
    "cm.ChisslMongo()\\\n",
    "    .get_induction_model('20 Newsgroups (nmf)', 'test')\\\n",
    "    .predict(df.iloc[-30:].to_dict(orient='records'))"
   ]
  },
  {
   "cell_type": "code",
   "execution_count": 9,
   "metadata": {},
   "outputs": [
    {
     "data": {
      "text/plain": [
       "array(['For sale'], dtype=object)"
      ]
     },
     "execution_count": 9,
     "metadata": {},
     "output_type": "execute_result"
    }
   ],
   "source": [
    "cm.ChisslMongo()\\\n",
    "    .get_induction_model('20 Newsgroups (nmf)', 'test')\\\n",
    "    .predict([{'content': 'in want to sell my old honda'}])"
   ]
  },
  {
   "cell_type": "code",
   "execution_count": null,
   "metadata": {
    "collapsed": true
   },
   "outputs": [],
   "source": []
  }
 ],
 "metadata": {
  "kernelspec": {
   "display_name": "Python 3",
   "language": "python",
   "name": "python3"
  },
  "language_info": {
   "codemirror_mode": {
    "name": "ipython",
    "version": 3
   },
   "file_extension": ".py",
   "mimetype": "text/x-python",
   "name": "python",
   "nbconvert_exporter": "python",
   "pygments_lexer": "ipython3",
   "version": "3.6.3"
  }
 },
 "nbformat": 4,
 "nbformat_minor": 2
}
