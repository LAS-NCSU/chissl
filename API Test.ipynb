{
 "cells": [
  {
   "cell_type": "code",
   "execution_count": 117,
   "metadata": {},
   "outputs": [],
   "source": [
    "import requests, json"
   ]
  },
  {
   "cell_type": "code",
   "execution_count": 128,
   "metadata": {},
   "outputs": [],
   "source": [
    "def create_test_url(base):\n",
    "    return lambda url: requests.get(f'{base}{url}').json()"
   ]
  },
  {
   "cell_type": "code",
   "execution_count": 129,
   "metadata": {
    "collapsed": true
   },
   "outputs": [],
   "source": [
    "test_url = create_test_url('http://localhost:3000')"
   ]
  },
  {
   "cell_type": "code",
   "execution_count": 149,
   "metadata": {},
   "outputs": [
    {
     "data": {
      "text/plain": [
       "{'20 Newsgroups (nmf)': {'_id': '20 Newsgroups (nmf)',\n",
       "  'collection': 'Newsgroups',\n",
       "  'component': 'TextComponent',\n",
       "  'pipeline': 'util.pipelines.TextPipeline'}}"
      ]
     },
     "execution_count": 149,
     "metadata": {},
     "output_type": "execute_result"
    }
   ],
   "source": [
    "test_url('/api/applications/')"
   ]
  },
  {
   "cell_type": "code",
   "execution_count": 153,
   "metadata": {},
   "outputs": [
    {
     "data": {
      "text/plain": [
       "{'induction': {'test': {'_id': 'test',\n",
       "   'date': 'Sat, 11 Aug 2018 21:45:44 GMT'}},\n",
       " 'transduction': {'test': {'_id': 'test',\n",
       "   'date': 'Sat, 11 Aug 2018 05:23:32 GMT',\n",
       "   'labels': {},\n",
       "   'project': {'group': True},\n",
       "   'query': {}}}}"
      ]
     },
     "execution_count": 153,
     "metadata": {},
     "output_type": "execute_result"
    }
   ],
   "source": [
    "test_url('/api/applications/20 Newsgroups (nmf)/')"
   ]
  }
 ],
 "metadata": {
  "kernelspec": {
   "display_name": "Python 3",
   "language": "python",
   "name": "python3"
  },
  "language_info": {
   "codemirror_mode": {
    "name": "ipython",
    "version": 3
   },
   "file_extension": ".py",
   "mimetype": "text/x-python",
   "name": "python",
   "nbconvert_exporter": "python",
   "pygments_lexer": "ipython3",
   "version": "3.6.3"
  }
 },
 "nbformat": 4,
 "nbformat_minor": 2
}
