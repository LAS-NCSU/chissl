{
 "cells": [
  {
   "cell_type": "code",
   "execution_count": 1,
   "metadata": {},
   "outputs": [],
   "source": [
    "import requests, json"
   ]
  },
  {
   "cell_type": "code",
   "execution_count": 31,
   "metadata": {},
   "outputs": [],
   "source": [
    "def create_test_url(base, method=requests.get):\n",
    "    def test_url(url, **kwargs):\n",
    "        response = method(f'{base}{url}', **kwargs)\n",
    "        if response:\n",
    "            return response.json()\n",
    "        \n",
    "    return test_url"
   ]
  },
  {
   "cell_type": "code",
   "execution_count": 32,
   "metadata": {
    "collapsed": true
   },
   "outputs": [],
   "source": [
    "get = create_test_url('http://localhost:3000')\n",
    "post = create_test_url('http://localhost:3000', method=requests.post)"
   ]
  },
  {
   "cell_type": "code",
   "execution_count": 33,
   "metadata": {},
   "outputs": [
    {
     "data": {
      "text/plain": [
       "{'20 Newsgroups (nmf)': {'_id': '20 Newsgroups (nmf)',\n",
       "  'collection': 'Newsgroups',\n",
       "  'component': 'TextComponent',\n",
       "  'pipeline': 'util.pipelines.TextPipeline'},\n",
       " 'Digits': {'_id': 'Digits',\n",
       "  'collection': 'Digits',\n",
       "  'component': 'ImageComponent',\n",
       "  'pipeline': 'util.pipelines.DigitsPipeline'}}"
      ]
     },
     "execution_count": 33,
     "metadata": {},
     "output_type": "execute_result"
    }
   ],
   "source": [
    "get('/api/applications/')"
   ]
  },
  {
   "cell_type": "code",
   "execution_count": 34,
   "metadata": {},
   "outputs": [
    {
     "data": {
      "text/plain": [
       "{'induction': {'test': {'_id': 'test',\n",
       "   'date': 'Sat, 11 Aug 2018 21:45:44 GMT',\n",
       "   'size': 0}},\n",
       " 'transduction': {'asfasdfasdfasdf': {'_id': 'asfasdfasdfasdf',\n",
       "   'date': 'Mon, 13 Aug 2018 02:11:27 GMT',\n",
       "   'labels': {},\n",
       "   'project': {},\n",
       "   'query': {},\n",
       "   'size': 6513},\n",
       "  'default': {'_id': 'default',\n",
       "   'date': 'Mon, 13 Aug 2018 01:47:56 GMT',\n",
       "   'labels': {},\n",
       "   'project': {},\n",
       "   'query': {},\n",
       "   'size': 6513},\n",
       "  'something': {'_id': 'something',\n",
       "   'date': 'Wed, 15 Aug 2018 20:05:33 GMT',\n",
       "   'labels': {},\n",
       "   'project': {'group': True},\n",
       "   'query': {},\n",
       "   'size': 6513},\n",
       "  'test': {'_id': 'test',\n",
       "   'date': 'Sat, 11 Aug 2018 05:23:32 GMT',\n",
       "   'labels': {},\n",
       "   'project': {'group': True},\n",
       "   'query': {},\n",
       "   'size': 6513}}}"
      ]
     },
     "execution_count": 34,
     "metadata": {},
     "output_type": "execute_result"
    }
   ],
   "source": [
    "get('/api/applications/20 Newsgroups (nmf)/')"
   ]
  },
  {
   "cell_type": "code",
   "execution_count": 63,
   "metadata": {},
   "outputs": [
    {
     "data": {
      "text/plain": [
       "{'test': {'_id': 'test', 'date': 'Sat, 18 Aug 2018 16:31:22 GMT', 'size': 0}}"
      ]
     },
     "execution_count": 63,
     "metadata": {},
     "output_type": "execute_result"
    }
   ],
   "source": [
    "labels = {\n",
    "    '0': 'Autos',\n",
    "    '1': 'Hardware',\n",
    "    '10': 'Autos',\n",
    "    '12': 'Hardware',\n",
    "    '13': 'Space',\n",
    "    '14': 'For sale',\n",
    "    '17': 'Autos',\n",
    "    '19': 'Software',\n",
    "    '2': 'Hardware',\n",
    "    '21': 'Sports',\n",
    "    '22': 'For sale',\n",
    "    '23': 'Software',\n",
    "    '24': 'Hardware',\n",
    "    '27': 'Sports',\n",
    "    '29': 'Autos',\n",
    "    '4': 'Space',\n",
    "    '6': 'Medicine',\n",
    "    '7': 'Hardware',\n",
    "    '8': 'Software',\n",
    "    '9': 'Hardware'\n",
    "}\n",
    "\n",
    "post('/api/applications/20 Newsgroups (nmf)/induction/',\n",
    "     json={ 'model': 'test',\n",
    "            'labels': labels})"
   ]
  },
  {
   "cell_type": "code",
   "execution_count": 69,
   "metadata": {},
   "outputs": [
    {
     "data": {
      "text/plain": [
       "{'y': ['Autos', 'Software']}"
      ]
     },
     "execution_count": 69,
     "metadata": {},
     "output_type": "execute_result"
    }
   ],
   "source": [
    "post('/api/applications/20 Newsgroups (nmf)/induction/test',\n",
    "     json={ 'X': [{'content': 'i have a car for sale'},\n",
    "                  {'content': 'my printer is broken'}]})"
   ]
  },
  {
   "cell_type": "code",
   "execution_count": 71,
   "metadata": {},
   "outputs": [
    {
     "data": {
      "text/plain": [
       "{'y': ['Autos', 'Software']}"
      ]
     },
     "execution_count": 71,
     "metadata": {},
     "output_type": "execute_result"
    }
   ],
   "source": [
    "post('/api/applications/20 Newsgroups (nmf)/induction/test',\n",
    "     json={ 'X': [{'content': 'i have a car for sale'},\n",
    "                  {'content': 'my printer is broken'}]})"
   ]
  },
  {
   "cell_type": "code",
   "execution_count": null,
   "metadata": {
    "collapsed": true
   },
   "outputs": [],
   "source": []
  }
 ],
 "metadata": {
  "kernelspec": {
   "display_name": "Python 3",
   "language": "python",
   "name": "python3"
  },
  "language_info": {
   "codemirror_mode": {
    "name": "ipython",
    "version": 3
   },
   "file_extension": ".py",
   "mimetype": "text/x-python",
   "name": "python",
   "nbconvert_exporter": "python",
   "pygments_lexer": "ipython3",
   "version": "3.6.3"
  }
 },
 "nbformat": 4,
 "nbformat_minor": 2
}
