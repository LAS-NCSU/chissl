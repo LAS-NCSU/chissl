{
 "cells": [
  {
   "cell_type": "code",
   "execution_count": 1,
   "metadata": {
    "collapsed": true
   },
   "outputs": [],
   "source": [
    "import pandas as pd\n",
    "import numpy as np\n",
    "\n",
    "import matplotlib.pyplot as plt\n",
    "%matplotlib inline\n",
    "\n",
    "from util import chissl_mongo as cm\n",
    "%load_ext autoreload\n",
    "%autoreload 2"
   ]
  },
  {
   "cell_type": "code",
   "execution_count": 87,
   "metadata": {},
   "outputs": [
    {
     "data": {
      "text/html": [
       "<div>\n",
       "<style scoped>\n",
       "    .dataframe tbody tr th:only-of-type {\n",
       "        vertical-align: middle;\n",
       "    }\n",
       "\n",
       "    .dataframe tbody tr th {\n",
       "        vertical-align: top;\n",
       "    }\n",
       "\n",
       "    .dataframe thead th {\n",
       "        text-align: right;\n",
       "    }\n",
       "</style>\n",
       "<table border=\"1\" class=\"dataframe\">\n",
       "  <thead>\n",
       "    <tr style=\"text-align: right;\">\n",
       "      <th></th>\n",
       "      <th>_id</th>\n",
       "      <th>features</th>\n",
       "    </tr>\n",
       "  </thead>\n",
       "  <tbody>\n",
       "    <tr>\n",
       "      <th>0</th>\n",
       "      <td>0</td>\n",
       "      <td>[0, 0, 5, 13, 9, 1, 0, 0, 0, 0, 13, 15, 10, 15...</td>\n",
       "    </tr>\n",
       "    <tr>\n",
       "      <th>1</th>\n",
       "      <td>1</td>\n",
       "      <td>[0, 0, 0, 12, 13, 5, 0, 0, 0, 0, 0, 11, 16, 9,...</td>\n",
       "    </tr>\n",
       "    <tr>\n",
       "      <th>2</th>\n",
       "      <td>2</td>\n",
       "      <td>[0, 0, 0, 4, 15, 12, 0, 0, 0, 0, 3, 16, 15, 14...</td>\n",
       "    </tr>\n",
       "    <tr>\n",
       "      <th>3</th>\n",
       "      <td>3</td>\n",
       "      <td>[0, 0, 7, 15, 13, 1, 0, 0, 0, 8, 13, 6, 15, 4,...</td>\n",
       "    </tr>\n",
       "    <tr>\n",
       "      <th>4</th>\n",
       "      <td>4</td>\n",
       "      <td>[0, 0, 0, 1, 11, 0, 0, 0, 0, 0, 0, 7, 8, 0, 0,...</td>\n",
       "    </tr>\n",
       "  </tbody>\n",
       "</table>\n",
       "</div>"
      ],
      "text/plain": [
       "  _id                                           features\n",
       "0   0  [0, 0, 5, 13, 9, 1, 0, 0, 0, 0, 13, 15, 10, 15...\n",
       "1   1  [0, 0, 0, 12, 13, 5, 0, 0, 0, 0, 0, 11, 16, 9,...\n",
       "2   2  [0, 0, 0, 4, 15, 12, 0, 0, 0, 0, 3, 16, 15, 14...\n",
       "3   3  [0, 0, 7, 15, 13, 1, 0, 0, 0, 8, 13, 6, 15, 4,...\n",
       "4   4  [0, 0, 0, 1, 11, 0, 0, 0, 0, 0, 0, 7, 8, 0, 0,..."
      ]
     },
     "execution_count": 87,
     "metadata": {},
     "output_type": "execute_result"
    }
   ],
   "source": [
    "from sklearn.datasets import load_digits\n",
    "\n",
    "data = load_digits()\n",
    "\n",
    "df = pd.DataFrame({\n",
    "    'features': data.data.astype('int').tolist(),\n",
    "    '_id': np.arange(len(images)).astype('str')\n",
    "})\n",
    "\n",
    "df.head()"
   ]
  },
  {
   "cell_type": "code",
   "execution_count": 89,
   "metadata": {},
   "outputs": [
    {
     "data": {
      "text/html": [
       "<div>\n",
       "<style scoped>\n",
       "    .dataframe tbody tr th:only-of-type {\n",
       "        vertical-align: middle;\n",
       "    }\n",
       "\n",
       "    .dataframe tbody tr th {\n",
       "        vertical-align: top;\n",
       "    }\n",
       "\n",
       "    .dataframe thead th {\n",
       "        text-align: right;\n",
       "    }\n",
       "</style>\n",
       "<table border=\"1\" class=\"dataframe\">\n",
       "  <thead>\n",
       "    <tr style=\"text-align: right;\">\n",
       "      <th></th>\n",
       "      <th>_id</th>\n",
       "      <th>features</th>\n",
       "      <th>src</th>\n",
       "    </tr>\n",
       "  </thead>\n",
       "  <tbody>\n",
       "    <tr>\n",
       "      <th>0</th>\n",
       "      <td>0</td>\n",
       "      <td>[0, 0, 5, 13, 9, 1, 0, 0, 0, 0, 13, 15, 10, 15...</td>\n",
       "      <td>{'type': 'image/png', 'data': '/9j/4AAQSkZJRgA...</td>\n",
       "    </tr>\n",
       "    <tr>\n",
       "      <th>1</th>\n",
       "      <td>1</td>\n",
       "      <td>[0, 0, 0, 12, 13, 5, 0, 0, 0, 0, 0, 11, 16, 9,...</td>\n",
       "      <td>{'type': 'image/png', 'data': '/9j/4AAQSkZJRgA...</td>\n",
       "    </tr>\n",
       "    <tr>\n",
       "      <th>2</th>\n",
       "      <td>2</td>\n",
       "      <td>[0, 0, 0, 4, 15, 12, 0, 0, 0, 0, 3, 16, 15, 14...</td>\n",
       "      <td>{'type': 'image/png', 'data': '/9j/4AAQSkZJRgA...</td>\n",
       "    </tr>\n",
       "    <tr>\n",
       "      <th>3</th>\n",
       "      <td>3</td>\n",
       "      <td>[0, 0, 7, 15, 13, 1, 0, 0, 0, 8, 13, 6, 15, 4,...</td>\n",
       "      <td>{'type': 'image/png', 'data': '/9j/4AAQSkZJRgA...</td>\n",
       "    </tr>\n",
       "    <tr>\n",
       "      <th>4</th>\n",
       "      <td>4</td>\n",
       "      <td>[0, 0, 0, 1, 11, 0, 0, 0, 0, 0, 0, 7, 8, 0, 0,...</td>\n",
       "      <td>{'type': 'image/png', 'data': '/9j/4AAQSkZJRgA...</td>\n",
       "    </tr>\n",
       "  </tbody>\n",
       "</table>\n",
       "</div>"
      ],
      "text/plain": [
       "  _id                                           features  \\\n",
       "0   0  [0, 0, 5, 13, 9, 1, 0, 0, 0, 0, 13, 15, 10, 15...   \n",
       "1   1  [0, 0, 0, 12, 13, 5, 0, 0, 0, 0, 0, 11, 16, 9,...   \n",
       "2   2  [0, 0, 0, 4, 15, 12, 0, 0, 0, 0, 3, 16, 15, 14...   \n",
       "3   3  [0, 0, 7, 15, 13, 1, 0, 0, 0, 8, 13, 6, 15, 4,...   \n",
       "4   4  [0, 0, 0, 1, 11, 0, 0, 0, 0, 0, 0, 7, 8, 0, 0,...   \n",
       "\n",
       "                                                 src  \n",
       "0  {'type': 'image/png', 'data': '/9j/4AAQSkZJRgA...  \n",
       "1  {'type': 'image/png', 'data': '/9j/4AAQSkZJRgA...  \n",
       "2  {'type': 'image/png', 'data': '/9j/4AAQSkZJRgA...  \n",
       "3  {'type': 'image/png', 'data': '/9j/4AAQSkZJRgA...  \n",
       "4  {'type': 'image/png', 'data': '/9j/4AAQSkZJRgA...  "
      ]
     },
     "execution_count": 89,
     "metadata": {},
     "output_type": "execute_result"
    }
   ],
   "source": [
    "from util.image import img2base64\n",
    "\n",
    "df['src'] = df.features\\\n",
    "    .apply(lambda xi: ((16*(16 - np.array(xi)) - 1).reshape((8,8))).clip(0, 255).astype(np.uint8))\\\n",
    "    .apply(Image.fromarray, mode='L')\\\n",
    "    .apply(Image.Image.resize,\n",
    "           size=(100, 100),\n",
    "           resample=Image.BICUBIC)\\\n",
    "    .apply(img2base64)\n",
    "    \n",
    "df.head()"
   ]
  },
  {
   "cell_type": "code",
   "execution_count": 131,
   "metadata": {},
   "outputs": [
    {
     "data": {
      "text/plain": [
       "<pymongo.results.InsertManyResult at 0x1a1d557048>"
      ]
     },
     "execution_count": 131,
     "metadata": {},
     "output_type": "execute_result"
    }
   ],
   "source": [
    "from util import chissl_mongo as cm\n",
    "\n",
    "cm.ChisslMongo()\\\n",
    "    .create_collection('Digits', df.to_dict(orient='records'), drop=True)"
   ]
  },
  {
   "cell_type": "code",
   "execution_count": 132,
   "metadata": {},
   "outputs": [
    {
     "data": {
      "text/plain": [
       "{'_id': 'Digits',\n",
       " 'collection': 'Digits',\n",
       " 'component': 'ImageComponent',\n",
       " 'pipeline': 'util.pipelines.DigitsPipeline'}"
      ]
     },
     "execution_count": 132,
     "metadata": {},
     "output_type": "execute_result"
    }
   ],
   "source": [
    "cm.ChisslMongo()\\\n",
    "    .create_application('Digits',\n",
    "                        'Digits',\n",
    "                        'ImageComponent',\n",
    "                        'util.pipelines.DigitsPipeline',\n",
    "                        drop=True)"
   ]
  },
  {
   "cell_type": "code",
   "execution_count": 133,
   "metadata": {},
   "outputs": [
    {
     "name": "stdout",
     "output_type": "stream",
     "text": [
      "Finding application <Digits>...OK\n",
      "Querying collection <Digits>...found 1797...OK\n",
      "Transforming data...OK\n",
      "Clustering data...OK\n",
      "done.\n"
     ]
    }
   ],
   "source": [
    "obj = cm.ChisslMongo(verbose=True)\\\n",
    "    .create_model('Digits',\n",
    "                  'test', drop=True)"
   ]
  },
  {
   "cell_type": "code",
   "execution_count": 136,
   "metadata": {},
   "outputs": [
    {
     "data": {
      "image/png": "[encoded data removed]",
      "text/plain": [
       "<matplotlib.figure.Figure at 0x1a1d4c0da0>"
      ]
     },
     "metadata": {},
     "output_type": "display_data"
    }
   ],
   "source": [
    "plt.scatter(*np.array(obj['X']).T, s=5, c=data.target, cmap='tab10', vmax=10)\n",
    "plt.axis('equal')\n",
    "cb = plt.colorbar()\n",
    "cb.set_ticks(np.arange(10) + .5)\n",
    "cb.set_ticklabels(np.arange(10).astype('str'))"
   ]
  }
 ],
 "metadata": {
  "kernelspec": {
   "display_name": "Python 3",
   "language": "python",
   "name": "python3"
  },
  "language_info": {
   "codemirror_mode": {
    "name": "ipython",
    "version": 3
   },
   "file_extension": ".py",
   "mimetype": "text/x-python",
   "name": "python",
   "nbconvert_exporter": "python",
   "pygments_lexer": "ipython3",
   "version": "3.6.3"
  }
 },
 "nbformat": 4,
 "nbformat_minor": 2
}
